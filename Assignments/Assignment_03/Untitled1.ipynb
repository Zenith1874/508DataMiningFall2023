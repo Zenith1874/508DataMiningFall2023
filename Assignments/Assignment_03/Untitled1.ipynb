{
 "cells": [
  {
   "cell_type": "code",
   "execution_count": 8,
   "id": "ef0c61c0",
   "metadata": {},
   "outputs": [
    {
     "name": "stdout",
     "output_type": "stream",
     "text": [
      "Index(['b', 'a'], dtype='object')\n"
     ]
    }
   ],
   "source": [
    "import pandas as pd\n",
    "import numpy as np\n",
    "\n",
    "x = np.array([[1,2],[13,4],[13,5],[2,2]])\n",
    "y = [\"a\",\"b\",\"b\",\"a\"]\n",
    "t = np.array([13,5])\n",
    "\n",
    "distance = np.sum((x-t)**2,axis=1)**0.5\n",
    "ser = pd.Series(distance,index=y) \n",
    "serK = list(ser.sort_values().index)[:3]\n",
    "sortSer = pd.Series(serK).value_counts()\n",
    "print(sortSer.index)"
   ]
  },
  {
   "cell_type": "code",
   "execution_count": null,
   "id": "179b3da2",
   "metadata": {},
   "outputs": [],
   "source": []
  },
  {
   "cell_type": "code",
   "execution_count": null,
   "id": "a8af300f",
   "metadata": {},
   "outputs": [],
   "source": []
  }
 ],
 "metadata": {
  "kernelspec": {
   "display_name": "Python 3 (ipykernel)",
   "language": "python",
   "name": "python3"
  },
  "language_info": {
   "codemirror_mode": {
    "name": "ipython",
    "version": 3
   },
   "file_extension": ".py",
   "mimetype": "text/x-python",
   "name": "python",
   "nbconvert_exporter": "python",
   "pygments_lexer": "ipython3",
   "version": "3.11.5"
  }
 },
 "nbformat": 4,
 "nbformat_minor": 5
}
